{
 "cells": [
  {
   "cell_type": "code",
   "execution_count": 4,
   "metadata": {},
   "outputs": [
    {
     "data": {
      "text/html": [
       "<div>\n",
       "<style scoped>\n",
       "    .dataframe tbody tr th:only-of-type {\n",
       "        vertical-align: middle;\n",
       "    }\n",
       "\n",
       "    .dataframe tbody tr th {\n",
       "        vertical-align: top;\n",
       "    }\n",
       "\n",
       "    .dataframe thead th {\n",
       "        text-align: right;\n",
       "    }\n",
       "</style>\n",
       "<table border=\"1\" class=\"dataframe\">\n",
       "  <thead>\n",
       "    <tr style=\"text-align: right;\">\n",
       "      <th></th>\n",
       "      <th>Mouse ID</th>\n",
       "      <th>Drug Regimen</th>\n",
       "      <th>Sex</th>\n",
       "      <th>Age_months</th>\n",
       "      <th>Weight (g)</th>\n",
       "      <th>Timepoint</th>\n",
       "      <th>Tumor Volume (mm3)</th>\n",
       "      <th>Metastatic Sites</th>\n",
       "    </tr>\n",
       "  </thead>\n",
       "  <tbody>\n",
       "    <tr>\n",
       "      <th>0</th>\n",
       "      <td>k403</td>\n",
       "      <td>Ramicane</td>\n",
       "      <td>Male</td>\n",
       "      <td>21</td>\n",
       "      <td>16</td>\n",
       "      <td>0</td>\n",
       "      <td>45.000000</td>\n",
       "      <td>0</td>\n",
       "    </tr>\n",
       "    <tr>\n",
       "      <th>1</th>\n",
       "      <td>k403</td>\n",
       "      <td>Ramicane</td>\n",
       "      <td>Male</td>\n",
       "      <td>21</td>\n",
       "      <td>16</td>\n",
       "      <td>5</td>\n",
       "      <td>38.825898</td>\n",
       "      <td>0</td>\n",
       "    </tr>\n",
       "    <tr>\n",
       "      <th>2</th>\n",
       "      <td>k403</td>\n",
       "      <td>Ramicane</td>\n",
       "      <td>Male</td>\n",
       "      <td>21</td>\n",
       "      <td>16</td>\n",
       "      <td>10</td>\n",
       "      <td>35.014271</td>\n",
       "      <td>1</td>\n",
       "    </tr>\n",
       "    <tr>\n",
       "      <th>3</th>\n",
       "      <td>k403</td>\n",
       "      <td>Ramicane</td>\n",
       "      <td>Male</td>\n",
       "      <td>21</td>\n",
       "      <td>16</td>\n",
       "      <td>15</td>\n",
       "      <td>34.223992</td>\n",
       "      <td>1</td>\n",
       "    </tr>\n",
       "    <tr>\n",
       "      <th>4</th>\n",
       "      <td>k403</td>\n",
       "      <td>Ramicane</td>\n",
       "      <td>Male</td>\n",
       "      <td>21</td>\n",
       "      <td>16</td>\n",
       "      <td>20</td>\n",
       "      <td>32.997729</td>\n",
       "      <td>1</td>\n",
       "    </tr>\n",
       "  </tbody>\n",
       "</table>\n",
       "</div>"
      ],
      "text/plain": [
       "  Mouse ID Drug Regimen   Sex  Age_months  Weight (g)  Timepoint  \\\n",
       "0     k403     Ramicane  Male          21          16          0   \n",
       "1     k403     Ramicane  Male          21          16          5   \n",
       "2     k403     Ramicane  Male          21          16         10   \n",
       "3     k403     Ramicane  Male          21          16         15   \n",
       "4     k403     Ramicane  Male          21          16         20   \n",
       "\n",
       "   Tumor Volume (mm3)  Metastatic Sites  \n",
       "0           45.000000                 0  \n",
       "1           38.825898                 0  \n",
       "2           35.014271                 1  \n",
       "3           34.223992                 1  \n",
       "4           32.997729                 1  "
      ]
     },
     "execution_count": 4,
     "metadata": {},
     "output_type": "execute_result"
    }
   ],
   "source": [
    "# Dependencies and Setup\n",
    "import matplotlib.pyplot as plt\n",
    "import pandas as pd\n",
    "import scipy.stats as st\n",
    "import numpy as np\n",
    "\n",
    "# Study data files\n",
    "mouse_metadata_path = \"data/Mouse_metadata.csv\"\n",
    "study_results_path = \"data/Study_results.csv\"\n",
    "\n",
    "# Read the mouse data and the study results\n",
    "mouse_metadata = pd.read_csv(mouse_metadata_path)\n",
    "study_results = pd.read_csv(study_results_path)\n",
    "\n",
    "# Combine the data into a single dataset\n",
    "\n",
    "combined_data_df = pd.merge(mouse_metadata, study_results,\n",
    "                                 how='outer', on='Mouse ID')\n",
    "\n",
    "\n",
    "# Display the data table for preview\n",
    "\n",
    "combined_data_df.head()"
   ]
  },
  {
   "cell_type": "code",
   "execution_count": 5,
   "metadata": {
    "scrolled": false
   },
   "outputs": [
    {
     "data": {
      "text/plain": [
       "g989    13\n",
       "g288    10\n",
       "b742    10\n",
       "t198    10\n",
       "l700    10\n",
       "Name: Mouse ID, dtype: int64"
      ]
     },
     "execution_count": 5,
     "metadata": {},
     "output_type": "execute_result"
    }
   ],
   "source": [
    "# Checking the number of mice.\n",
    "\n",
    "combined_data_df['Mouse ID'].value_counts().head()"
   ]
  },
  {
   "cell_type": "code",
   "execution_count": 6,
   "metadata": {},
   "outputs": [
    {
     "name": "stdout",
     "output_type": "stream",
     "text": [
      "['g989']\n"
     ]
    }
   ],
   "source": [
    "# Getting the duplicate mice by ID number that shows up for Mouse ID and Timepoint. \n",
    "duplicate_mice = combined_data_df.loc[combined_data_df.duplicated(subset=['Mouse ID', 'Timepoint']),'Mouse ID'].unique()\n",
    "print(duplicate_mice)"
   ]
  },
  {
   "cell_type": "code",
   "execution_count": 7,
   "metadata": {},
   "outputs": [
    {
     "data": {
      "text/html": [
       "<div>\n",
       "<style scoped>\n",
       "    .dataframe tbody tr th:only-of-type {\n",
       "        vertical-align: middle;\n",
       "    }\n",
       "\n",
       "    .dataframe tbody tr th {\n",
       "        vertical-align: top;\n",
       "    }\n",
       "\n",
       "    .dataframe thead th {\n",
       "        text-align: right;\n",
       "    }\n",
       "</style>\n",
       "<table border=\"1\" class=\"dataframe\">\n",
       "  <thead>\n",
       "    <tr style=\"text-align: right;\">\n",
       "      <th></th>\n",
       "      <th>Drug Regimen</th>\n",
       "      <th>Sex</th>\n",
       "      <th>Age_months</th>\n",
       "      <th>Weight (g)</th>\n",
       "      <th>Timepoint</th>\n",
       "      <th>Tumor Volume (mm3)</th>\n",
       "      <th>Metastatic Sites</th>\n",
       "    </tr>\n",
       "    <tr>\n",
       "      <th>Mouse ID</th>\n",
       "      <th></th>\n",
       "      <th></th>\n",
       "      <th></th>\n",
       "      <th></th>\n",
       "      <th></th>\n",
       "      <th></th>\n",
       "      <th></th>\n",
       "    </tr>\n",
       "  </thead>\n",
       "  <tbody>\n",
       "    <tr>\n",
       "      <th>g989</th>\n",
       "      <td>Propriva</td>\n",
       "      <td>Female</td>\n",
       "      <td>21</td>\n",
       "      <td>26</td>\n",
       "      <td>0</td>\n",
       "      <td>45.000000</td>\n",
       "      <td>0</td>\n",
       "    </tr>\n",
       "    <tr>\n",
       "      <th>g989</th>\n",
       "      <td>Propriva</td>\n",
       "      <td>Female</td>\n",
       "      <td>21</td>\n",
       "      <td>26</td>\n",
       "      <td>0</td>\n",
       "      <td>45.000000</td>\n",
       "      <td>0</td>\n",
       "    </tr>\n",
       "    <tr>\n",
       "      <th>g989</th>\n",
       "      <td>Propriva</td>\n",
       "      <td>Female</td>\n",
       "      <td>21</td>\n",
       "      <td>26</td>\n",
       "      <td>5</td>\n",
       "      <td>48.786801</td>\n",
       "      <td>0</td>\n",
       "    </tr>\n",
       "    <tr>\n",
       "      <th>g989</th>\n",
       "      <td>Propriva</td>\n",
       "      <td>Female</td>\n",
       "      <td>21</td>\n",
       "      <td>26</td>\n",
       "      <td>5</td>\n",
       "      <td>47.570392</td>\n",
       "      <td>0</td>\n",
       "    </tr>\n",
       "    <tr>\n",
       "      <th>g989</th>\n",
       "      <td>Propriva</td>\n",
       "      <td>Female</td>\n",
       "      <td>21</td>\n",
       "      <td>26</td>\n",
       "      <td>10</td>\n",
       "      <td>51.745156</td>\n",
       "      <td>0</td>\n",
       "    </tr>\n",
       "  </tbody>\n",
       "</table>\n",
       "</div>"
      ],
      "text/plain": [
       "         Drug Regimen     Sex  Age_months  Weight (g)  Timepoint  \\\n",
       "Mouse ID                                                           \n",
       "g989         Propriva  Female          21          26          0   \n",
       "g989         Propriva  Female          21          26          0   \n",
       "g989         Propriva  Female          21          26          5   \n",
       "g989         Propriva  Female          21          26          5   \n",
       "g989         Propriva  Female          21          26         10   \n",
       "\n",
       "          Tumor Volume (mm3)  Metastatic Sites  \n",
       "Mouse ID                                        \n",
       "g989               45.000000                 0  \n",
       "g989               45.000000                 0  \n",
       "g989               48.786801                 0  \n",
       "g989               47.570392                 0  \n",
       "g989               51.745156                 0  "
      ]
     },
     "execution_count": 7,
     "metadata": {},
     "output_type": "execute_result"
    }
   ],
   "source": [
    "# Optional: Get all the data for the duplicate mouse ID. \n",
    "\n",
    "\n",
    "g989 = combined_data_df.set_index('Mouse ID')\n",
    "duplicate_mouse = g989.loc['g989', :]\n",
    "duplicate_mouse.head()"
   ]
  },
  {
   "cell_type": "code",
   "execution_count": 8,
   "metadata": {},
   "outputs": [
    {
     "data": {
      "text/html": [
       "<div>\n",
       "<style scoped>\n",
       "    .dataframe tbody tr th:only-of-type {\n",
       "        vertical-align: middle;\n",
       "    }\n",
       "\n",
       "    .dataframe tbody tr th {\n",
       "        vertical-align: top;\n",
       "    }\n",
       "\n",
       "    .dataframe thead th {\n",
       "        text-align: right;\n",
       "    }\n",
       "</style>\n",
       "<table border=\"1\" class=\"dataframe\">\n",
       "  <thead>\n",
       "    <tr style=\"text-align: right;\">\n",
       "      <th></th>\n",
       "      <th>Mouse ID</th>\n",
       "      <th>Drug Regimen</th>\n",
       "      <th>Sex</th>\n",
       "      <th>Age_months</th>\n",
       "      <th>Weight (g)</th>\n",
       "      <th>Timepoint</th>\n",
       "      <th>Tumor Volume (mm3)</th>\n",
       "      <th>Metastatic Sites</th>\n",
       "    </tr>\n",
       "  </thead>\n",
       "  <tbody>\n",
       "    <tr>\n",
       "      <th>0</th>\n",
       "      <td>k403</td>\n",
       "      <td>Ramicane</td>\n",
       "      <td>Male</td>\n",
       "      <td>21</td>\n",
       "      <td>16</td>\n",
       "      <td>0</td>\n",
       "      <td>45.000000</td>\n",
       "      <td>0</td>\n",
       "    </tr>\n",
       "    <tr>\n",
       "      <th>1</th>\n",
       "      <td>k403</td>\n",
       "      <td>Ramicane</td>\n",
       "      <td>Male</td>\n",
       "      <td>21</td>\n",
       "      <td>16</td>\n",
       "      <td>5</td>\n",
       "      <td>38.825898</td>\n",
       "      <td>0</td>\n",
       "    </tr>\n",
       "    <tr>\n",
       "      <th>2</th>\n",
       "      <td>k403</td>\n",
       "      <td>Ramicane</td>\n",
       "      <td>Male</td>\n",
       "      <td>21</td>\n",
       "      <td>16</td>\n",
       "      <td>10</td>\n",
       "      <td>35.014271</td>\n",
       "      <td>1</td>\n",
       "    </tr>\n",
       "    <tr>\n",
       "      <th>3</th>\n",
       "      <td>k403</td>\n",
       "      <td>Ramicane</td>\n",
       "      <td>Male</td>\n",
       "      <td>21</td>\n",
       "      <td>16</td>\n",
       "      <td>15</td>\n",
       "      <td>34.223992</td>\n",
       "      <td>1</td>\n",
       "    </tr>\n",
       "    <tr>\n",
       "      <th>4</th>\n",
       "      <td>k403</td>\n",
       "      <td>Ramicane</td>\n",
       "      <td>Male</td>\n",
       "      <td>21</td>\n",
       "      <td>16</td>\n",
       "      <td>20</td>\n",
       "      <td>32.997729</td>\n",
       "      <td>1</td>\n",
       "    </tr>\n",
       "  </tbody>\n",
       "</table>\n",
       "</div>"
      ],
      "text/plain": [
       "  Mouse ID Drug Regimen   Sex  Age_months  Weight (g)  Timepoint  \\\n",
       "0     k403     Ramicane  Male          21          16          0   \n",
       "1     k403     Ramicane  Male          21          16          5   \n",
       "2     k403     Ramicane  Male          21          16         10   \n",
       "3     k403     Ramicane  Male          21          16         15   \n",
       "4     k403     Ramicane  Male          21          16         20   \n",
       "\n",
       "   Tumor Volume (mm3)  Metastatic Sites  \n",
       "0           45.000000                 0  \n",
       "1           38.825898                 0  \n",
       "2           35.014271                 1  \n",
       "3           34.223992                 1  \n",
       "4           32.997729                 1  "
      ]
     },
     "execution_count": 8,
     "metadata": {},
     "output_type": "execute_result"
    }
   ],
   "source": [
    "# Create a clean DataFrame by dropping the duplicate mouse by its ID.\n",
    "\n",
    "clean_data_df = g989.drop(index = 'g989')\n",
    "clean_study_data_df = clean_data_df.reset_index()\n",
    "clean_study_data_df.head()"
   ]
  },
  {
   "cell_type": "code",
   "execution_count": 9,
   "metadata": {},
   "outputs": [
    {
     "data": {
      "text/plain": [
       "1880"
      ]
     },
     "execution_count": 9,
     "metadata": {},
     "output_type": "execute_result"
    }
   ],
   "source": [
    "# Checking the number of mice in the clean DataFrame.\n",
    "\n",
    "total_mice = clean_study_data_df[\"Mouse ID\"].count()\n",
    "total_mice\n"
   ]
  },
  {
   "cell_type": "markdown",
   "metadata": {},
   "source": [
    "## Summary Statistics"
   ]
  },
  {
   "cell_type": "code",
   "execution_count": 10,
   "metadata": {},
   "outputs": [
    {
     "data": {
      "text/html": [
       "<div>\n",
       "<style scoped>\n",
       "    .dataframe tbody tr th:only-of-type {\n",
       "        vertical-align: middle;\n",
       "    }\n",
       "\n",
       "    .dataframe tbody tr th {\n",
       "        vertical-align: top;\n",
       "    }\n",
       "\n",
       "    .dataframe thead th {\n",
       "        text-align: right;\n",
       "    }\n",
       "</style>\n",
       "<table border=\"1\" class=\"dataframe\">\n",
       "  <thead>\n",
       "    <tr style=\"text-align: right;\">\n",
       "      <th></th>\n",
       "      <th>Tumor_Vol_Mean</th>\n",
       "      <th>Tumor_Vol_Median</th>\n",
       "      <th>Tumor_Vol_Var</th>\n",
       "      <th>Tumor_Vol_Stdev</th>\n",
       "      <th>Tumor_Vol_SEM</th>\n",
       "    </tr>\n",
       "    <tr>\n",
       "      <th>Drug Regimen</th>\n",
       "      <th></th>\n",
       "      <th></th>\n",
       "      <th></th>\n",
       "      <th></th>\n",
       "      <th></th>\n",
       "    </tr>\n",
       "  </thead>\n",
       "  <tbody>\n",
       "    <tr>\n",
       "      <th>Capomulin</th>\n",
       "      <td>40.68</td>\n",
       "      <td>41.56</td>\n",
       "      <td>24.95</td>\n",
       "      <td>4.99</td>\n",
       "      <td>0.33</td>\n",
       "    </tr>\n",
       "    <tr>\n",
       "      <th>Ceftamin</th>\n",
       "      <td>52.59</td>\n",
       "      <td>51.78</td>\n",
       "      <td>39.29</td>\n",
       "      <td>6.27</td>\n",
       "      <td>0.47</td>\n",
       "    </tr>\n",
       "    <tr>\n",
       "      <th>Infubinol</th>\n",
       "      <td>52.88</td>\n",
       "      <td>51.82</td>\n",
       "      <td>43.13</td>\n",
       "      <td>6.57</td>\n",
       "      <td>0.49</td>\n",
       "    </tr>\n",
       "    <tr>\n",
       "      <th>Ketapril</th>\n",
       "      <td>55.24</td>\n",
       "      <td>53.70</td>\n",
       "      <td>68.55</td>\n",
       "      <td>8.28</td>\n",
       "      <td>0.60</td>\n",
       "    </tr>\n",
       "    <tr>\n",
       "      <th>Naftisol</th>\n",
       "      <td>54.33</td>\n",
       "      <td>52.51</td>\n",
       "      <td>66.17</td>\n",
       "      <td>8.13</td>\n",
       "      <td>0.60</td>\n",
       "    </tr>\n",
       "    <tr>\n",
       "      <th>Placebo</th>\n",
       "      <td>54.03</td>\n",
       "      <td>52.29</td>\n",
       "      <td>61.17</td>\n",
       "      <td>7.82</td>\n",
       "      <td>0.58</td>\n",
       "    </tr>\n",
       "    <tr>\n",
       "      <th>Propriva</th>\n",
       "      <td>52.32</td>\n",
       "      <td>50.45</td>\n",
       "      <td>43.85</td>\n",
       "      <td>6.62</td>\n",
       "      <td>0.54</td>\n",
       "    </tr>\n",
       "    <tr>\n",
       "      <th>Ramicane</th>\n",
       "      <td>40.22</td>\n",
       "      <td>40.67</td>\n",
       "      <td>23.49</td>\n",
       "      <td>4.85</td>\n",
       "      <td>0.32</td>\n",
       "    </tr>\n",
       "    <tr>\n",
       "      <th>Stelasyn</th>\n",
       "      <td>54.23</td>\n",
       "      <td>52.43</td>\n",
       "      <td>59.45</td>\n",
       "      <td>7.71</td>\n",
       "      <td>0.57</td>\n",
       "    </tr>\n",
       "    <tr>\n",
       "      <th>Zoniferol</th>\n",
       "      <td>53.24</td>\n",
       "      <td>51.82</td>\n",
       "      <td>48.53</td>\n",
       "      <td>6.97</td>\n",
       "      <td>0.52</td>\n",
       "    </tr>\n",
       "  </tbody>\n",
       "</table>\n",
       "</div>"
      ],
      "text/plain": [
       "              Tumor_Vol_Mean  Tumor_Vol_Median  Tumor_Vol_Var  \\\n",
       "Drug Regimen                                                    \n",
       "Capomulin              40.68             41.56          24.95   \n",
       "Ceftamin               52.59             51.78          39.29   \n",
       "Infubinol              52.88             51.82          43.13   \n",
       "Ketapril               55.24             53.70          68.55   \n",
       "Naftisol               54.33             52.51          66.17   \n",
       "Placebo                54.03             52.29          61.17   \n",
       "Propriva               52.32             50.45          43.85   \n",
       "Ramicane               40.22             40.67          23.49   \n",
       "Stelasyn               54.23             52.43          59.45   \n",
       "Zoniferol              53.24             51.82          48.53   \n",
       "\n",
       "              Tumor_Vol_Stdev  Tumor_Vol_SEM  \n",
       "Drug Regimen                                  \n",
       "Capomulin                4.99           0.33  \n",
       "Ceftamin                 6.27           0.47  \n",
       "Infubinol                6.57           0.49  \n",
       "Ketapril                 8.28           0.60  \n",
       "Naftisol                 8.13           0.60  \n",
       "Placebo                  7.82           0.58  \n",
       "Propriva                 6.62           0.54  \n",
       "Ramicane                 4.85           0.32  \n",
       "Stelasyn                 7.71           0.57  \n",
       "Zoniferol                6.97           0.52  "
      ]
     },
     "execution_count": 10,
     "metadata": {},
     "output_type": "execute_result"
    }
   ],
   "source": [
    "# Generate a summary statistics table of mean, median, variance, standard deviation, and SEM of the tumor volume for each regimen\n",
    "\n",
    "drug_stats = clean_study_data_df.groupby('Drug Regimen').agg(\\\n",
    "        # Get the mean of the 'Tumor Volume (mm3)' column\\\n",
    "        Tumor_Vol_Mean=('Tumor Volume (mm3)', np.mean),\\\n",
    "        # Get the median of the 'Tumor Volume (mm3)' column\\\n",
    "        Tumor_Vol_Median=('Tumor Volume (mm3)', np.median),\\\n",
    "        # Get the variance of the 'Tumor Volume (mm3)' column\\\n",
    "        Tumor_Vol_Var=('Tumor Volume (mm3)', np.var),\\\n",
    "        # Get the standard deviation of the 'Tumor Volume (mm3)' column\\\n",
    "        Tumor_Vol_Stdev=('Tumor Volume (mm3)', np.std),\\\n",
    "        # Get the standard error of measurement (SEM) of the 'Tumor Volume (mm3)' column\\\n",
    "        Tumor_Vol_SEM=('Tumor Volume (mm3)', st.sem)\\\n",
    ").round(2)\n",
    "\n",
    "# Display the Summary statistics table grouped by 'Drug Regimen' column\n",
    "drug_stats\n"
   ]
  },
  {
   "cell_type": "code",
   "execution_count": 11,
   "metadata": {},
   "outputs": [
    {
     "data": {
      "text/html": [
       "<div>\n",
       "<style scoped>\n",
       "    .dataframe tbody tr th:only-of-type {\n",
       "        vertical-align: middle;\n",
       "    }\n",
       "\n",
       "    .dataframe tbody tr th {\n",
       "        vertical-align: top;\n",
       "    }\n",
       "\n",
       "    .dataframe thead th {\n",
       "        text-align: right;\n",
       "    }\n",
       "</style>\n",
       "<table border=\"1\" class=\"dataframe\">\n",
       "  <thead>\n",
       "    <tr style=\"text-align: right;\">\n",
       "      <th></th>\n",
       "      <th>Tumor_Vol_Mean</th>\n",
       "      <th>Tumor_Vol_Median</th>\n",
       "      <th>Tumor_Vol_Var</th>\n",
       "      <th>Tumor_Vol_Stdev</th>\n",
       "      <th>Tumor_Vol_SEM</th>\n",
       "    </tr>\n",
       "    <tr>\n",
       "      <th>Drug Regimen</th>\n",
       "      <th></th>\n",
       "      <th></th>\n",
       "      <th></th>\n",
       "      <th></th>\n",
       "      <th></th>\n",
       "    </tr>\n",
       "  </thead>\n",
       "  <tbody>\n",
       "    <tr>\n",
       "      <th>Capomulin</th>\n",
       "      <td>40.68</td>\n",
       "      <td>41.56</td>\n",
       "      <td>24.95</td>\n",
       "      <td>4.99</td>\n",
       "      <td>0.33</td>\n",
       "    </tr>\n",
       "    <tr>\n",
       "      <th>Ceftamin</th>\n",
       "      <td>52.59</td>\n",
       "      <td>51.78</td>\n",
       "      <td>39.29</td>\n",
       "      <td>6.27</td>\n",
       "      <td>0.47</td>\n",
       "    </tr>\n",
       "    <tr>\n",
       "      <th>Infubinol</th>\n",
       "      <td>52.88</td>\n",
       "      <td>51.82</td>\n",
       "      <td>43.13</td>\n",
       "      <td>6.57</td>\n",
       "      <td>0.49</td>\n",
       "    </tr>\n",
       "    <tr>\n",
       "      <th>Ketapril</th>\n",
       "      <td>55.24</td>\n",
       "      <td>53.70</td>\n",
       "      <td>68.55</td>\n",
       "      <td>8.28</td>\n",
       "      <td>0.60</td>\n",
       "    </tr>\n",
       "    <tr>\n",
       "      <th>Naftisol</th>\n",
       "      <td>54.33</td>\n",
       "      <td>52.51</td>\n",
       "      <td>66.17</td>\n",
       "      <td>8.13</td>\n",
       "      <td>0.60</td>\n",
       "    </tr>\n",
       "    <tr>\n",
       "      <th>Placebo</th>\n",
       "      <td>54.03</td>\n",
       "      <td>52.29</td>\n",
       "      <td>61.17</td>\n",
       "      <td>7.82</td>\n",
       "      <td>0.58</td>\n",
       "    </tr>\n",
       "    <tr>\n",
       "      <th>Propriva</th>\n",
       "      <td>52.32</td>\n",
       "      <td>50.45</td>\n",
       "      <td>43.85</td>\n",
       "      <td>6.62</td>\n",
       "      <td>0.54</td>\n",
       "    </tr>\n",
       "    <tr>\n",
       "      <th>Ramicane</th>\n",
       "      <td>40.22</td>\n",
       "      <td>40.67</td>\n",
       "      <td>23.49</td>\n",
       "      <td>4.85</td>\n",
       "      <td>0.32</td>\n",
       "    </tr>\n",
       "    <tr>\n",
       "      <th>Stelasyn</th>\n",
       "      <td>54.23</td>\n",
       "      <td>52.43</td>\n",
       "      <td>59.45</td>\n",
       "      <td>7.71</td>\n",
       "      <td>0.57</td>\n",
       "    </tr>\n",
       "    <tr>\n",
       "      <th>Zoniferol</th>\n",
       "      <td>53.24</td>\n",
       "      <td>51.82</td>\n",
       "      <td>48.53</td>\n",
       "      <td>6.97</td>\n",
       "      <td>0.52</td>\n",
       "    </tr>\n",
       "  </tbody>\n",
       "</table>\n",
       "</div>"
      ],
      "text/plain": [
       "              Tumor_Vol_Mean  Tumor_Vol_Median  Tumor_Vol_Var  \\\n",
       "Drug Regimen                                                    \n",
       "Capomulin              40.68             41.56          24.95   \n",
       "Ceftamin               52.59             51.78          39.29   \n",
       "Infubinol              52.88             51.82          43.13   \n",
       "Ketapril               55.24             53.70          68.55   \n",
       "Naftisol               54.33             52.51          66.17   \n",
       "Placebo                54.03             52.29          61.17   \n",
       "Propriva               52.32             50.45          43.85   \n",
       "Ramicane               40.22             40.67          23.49   \n",
       "Stelasyn               54.23             52.43          59.45   \n",
       "Zoniferol              53.24             51.82          48.53   \n",
       "\n",
       "              Tumor_Vol_Stdev  Tumor_Vol_SEM  \n",
       "Drug Regimen                                  \n",
       "Capomulin                4.99           0.33  \n",
       "Ceftamin                 6.27           0.47  \n",
       "Infubinol                6.57           0.49  \n",
       "Ketapril                 8.28           0.60  \n",
       "Naftisol                 8.13           0.60  \n",
       "Placebo                  7.82           0.58  \n",
       "Propriva                 6.62           0.54  \n",
       "Ramicane                 4.85           0.32  \n",
       "Stelasyn                 7.71           0.57  \n",
       "Zoniferol                6.97           0.52  "
      ]
     },
     "execution_count": 11,
     "metadata": {},
     "output_type": "execute_result"
    }
   ],
   "source": [
    "# Generate a summary statistics table of mean, median, variance, standard deviation, and SEM of the tumor volume for each regimen\n",
    "drug_stats\n",
    "# Using the aggregation method, produce the same summary statistics in a single line\n",
    "drug_stats"
   ]
  },
  {
   "cell_type": "markdown",
   "metadata": {},
   "source": [
    "## Bar and Pie Charts"
   ]
  },
  {
   "cell_type": "code",
   "execution_count": 12,
   "metadata": {},
   "outputs": [
    {
     "data": {
      "image/png": "[encoded data removed]",
      "text/plain": [
       "<Figure size 432x288 with 1 Axes>"
      ]
     },
     "metadata": {
      "needs_background": "light"
     },
     "output_type": "display_data"
    }
   ],
   "source": [
    "# Generate a bar plot showing the total number of measurements taken on each drug regimen using pandas.\n",
    "\n",
    "# First create a dataframe grouping by the 'Drug Regimen' column\n",
    "drug_group = clean_study_data_df.groupby('Drug Regimen')\n",
    "\n",
    "# Create a dataframe counting the number of data points for each Drug Regimen\n",
    "drug_group_count = pd.DataFrame(drug_group['Drug Regimen'].count())\n",
    "\n",
    "\n",
    "# Create a bar chart based off of the group series from before and label the title\n",
    "count_chart = drug_group_count.plot(kind='bar', title=\"Measurements Taken on Each Drug Regimen\", color=\"blue\")\n",
    "\n",
    "# Set the xlabel and ylabel using class methods\n",
    "count_chart.set_xlabel(\"Drug Regimen\")\n",
    "count_chart.set_ylabel(\"Measurements\")\n",
    "plt.tight_layout()\n",
    "# Save the figure\n",
    "\n",
    "\n",
    "plt.show()"
   ]
  },
  {
   "cell_type": "code",
   "execution_count": 13,
   "metadata": {},
   "outputs": [
    {
     "data": {
      "image/png": "[encoded data removed]",
      "text/plain": [
       "<Figure size 648x576 with 1 Axes>"
      ]
     },
     "metadata": {
      "needs_background": "light"
     },
     "output_type": "display_data"
    }
   ],
   "source": [
    "# Generate a bar plot showing the total number of measurements taken on each drug regimen using pyplot.\n",
    "\n",
    "x_axis = np.arange(len(drug_group_count))\n",
    "tick_locations = [value for value in x_axis]\n",
    "\n",
    " # Create a list indicating where to write x labels and set figure size to adjust for space\n",
    "plt.figure(figsize=(9,8))\n",
    "plt.bar(x_axis, drug_group_count[\"Drug Regimen\"], color='blue', align=\"center\", width = 0.52)\n",
    "plt.xticks(tick_locations, list(drug_group_count.index), rotation=\"vertical\")\n",
    "\n",
    "# Set x and y limits\n",
    "plt.xlim(-0.7, len(x_axis)-0.3)\n",
    "plt.ylim(0, max(drug_group_count[\"Drug Regimen\"])*1.05)\n",
    "\n",
    "# Set a Title and labels\n",
    "plt.title(\"Measurements Taken on Each Drug Regimen\")\n",
    "plt.xlabel(\"Drug Regimen\")\n",
    "plt.ylabel(\"Measurements\")\n",
    "\n",
    "column_name = [\"Drug Regimen\"]\n",
    "plt.legend(column_name,loc=\"best\")\n",
    "\n",
    "\n",
    "plt.show()"
   ]
  },
  {
   "cell_type": "code",
   "execution_count": 14,
   "metadata": {},
   "outputs": [
    {
     "data": {
      "text/html": [
       "<div>\n",
       "<style scoped>\n",
       "    .dataframe tbody tr th:only-of-type {\n",
       "        vertical-align: middle;\n",
       "    }\n",
       "\n",
       "    .dataframe tbody tr th {\n",
       "        vertical-align: top;\n",
       "    }\n",
       "\n",
       "    .dataframe thead th {\n",
       "        text-align: right;\n",
       "    }\n",
       "</style>\n",
       "<table border=\"1\" class=\"dataframe\">\n",
       "  <thead>\n",
       "    <tr style=\"text-align: right;\">\n",
       "      <th></th>\n",
       "      <th>Sex</th>\n",
       "    </tr>\n",
       "    <tr>\n",
       "      <th>Sex</th>\n",
       "      <th></th>\n",
       "    </tr>\n",
       "  </thead>\n",
       "  <tbody>\n",
       "    <tr>\n",
       "      <th>Female</th>\n",
       "      <td>922</td>\n",
       "    </tr>\n",
       "    <tr>\n",
       "      <th>Male</th>\n",
       "      <td>958</td>\n",
       "    </tr>\n",
       "  </tbody>\n",
       "</table>\n",
       "</div>"
      ],
      "text/plain": [
       "        Sex\n",
       "Sex        \n",
       "Female  922\n",
       "Male    958"
      ]
     },
     "execution_count": 14,
     "metadata": {},
     "output_type": "execute_result"
    }
   ],
   "source": [
    "# First create a dataframe grouping by the 'Sex' column\n",
    "sex_group = clean_study_data_df.groupby('Sex')\n",
    "\n",
    "# Create a dataframe counting the number of data points for each gender\n",
    "gendergroup_count = pd.DataFrame(sex_group['Sex'].count())\n",
    "\n",
    "# View the groupby dataframe\n",
    "gendergroup_count.head()"
   ]
  },
  {
   "cell_type": "code",
   "execution_count": 15,
   "metadata": {
    "scrolled": true
   },
   "outputs": [
    {
     "data": {
      "image/png": "[encoded data removed]",
      "text/plain": [
       "<Figure size 432x288 with 1 Axes>"
      ]
     },
     "metadata": {},
     "output_type": "display_data"
    }
   ],
   "source": [
    "# Generate a pie plot showing the distribution of female versus male mice using pandas\n",
    "\n",
    "\n",
    "gendergroup_count.plot(kind='pie', y='Sex',\\\n",
    "                        title=\"Distribution of Female vs Male Mice\",startangle=140,\\\n",
    "                        autopct='%1.1f%%',shadow=True, fontsize=16, colors =[\"lightblue\",\"orange\"],legend =False)\n",
    "\n",
    "plt.axis(\"equal\")\n",
    "plt.show()"
   ]
  },
  {
   "cell_type": "code",
   "execution_count": 16,
   "metadata": {},
   "outputs": [
    {
     "data": {
      "image/png": "[encoded data removed]",
      "text/plain": [
       "<Figure size 432x288 with 1 Axes>"
      ]
     },
     "metadata": {},
     "output_type": "display_data"
    }
   ],
   "source": [
    "# Generate a pie plot showing the distribution of female versus male mice using pyplot\n",
    "\n",
    "# Get Labels for our pie chart from the index values of the groupby dataframe\n",
    "genders = list(gendergroup_count.index.values)\n",
    "\n",
    "# The values of each section of the pie chart\n",
    "gender_counts = gendergroup_count['Sex']\n",
    "\n",
    "# The colors of each section of the pie chart\n",
    "colors = [\"lightblue\", \"orange\"]\n",
    "\n",
    "# Creates the pie chart based upon the values above\n",
    "# Automatically finds the percentages of each part of the pie chart\n",
    "plt.pie(gender_counts, labels=genders, colors=colors,\n",
    "        autopct=\"%1.1f%%\", shadow=True, startangle=140)\n",
    "plt.rcParams['font.size'] = 16\n",
    "plt.title(\"Distribution of Female vs Male Mice\")\n",
    "plt.axis(\"equal\")\n",
    "plt.show()"
   ]
  },
  {
   "cell_type": "markdown",
   "metadata": {},
   "source": [
    "## Quartiles, Outliers and Boxplots"
   ]
  },
  {
   "cell_type": "code",
   "execution_count": 17,
   "metadata": {},
   "outputs": [],
   "source": [
    "# Calculate the final tumor volume of each mouse across four of the treatment regimens:  \n",
    "# Capomulin, Ramicane, Infubinol, and Ceftamin\n",
    "\n",
    "max_tumor = clean_study_data_df.groupby([\"Mouse ID\"])[\"Timepoint\"].max()\n",
    "max_tumor = max_tumor.reset_index()\n",
    "merged_data = max_tumor.merge(clean_study_data_df, on=[\"Mouse ID\",\"Timepoint\"],how=\"left\")\n",
    "\n",
    "\n",
    "\n",
    "# Start by getting the last (greatest) timepoint for each mouse\n",
    "\n",
    "\n",
    "# Merge this group df with the original dataframe to get the tumor volume at the last timepoint\n"
   ]
  },
  {
   "cell_type": "code",
   "execution_count": 21,
   "metadata": {},
   "outputs": [
    {
     "name": "stdout",
     "output_type": "stream",
     "text": [
      "Capomulin's potential outliers: Series([], Name: Tumor Volume (mm3), dtype: float64)\n",
      "Ramicane's potential outliers: Series([], Name: Tumor Volume (mm3), dtype: float64)\n",
      "Infubinol's potential outliers: 31    36.321346\n",
      "Name: Tumor Volume (mm3), dtype: float64\n",
      "Ceftamin's potential outliers: Series([], Name: Tumor Volume (mm3), dtype: float64)\n"
     ]
    }
   ],
   "source": [
    "# Put treatments into a list for for loop (and later for plot labels)\n",
    "treatment_list = [\"Capomulin\", \"Ramicane\", \"Infubinol\", \"Ceftamin\"]\n",
    "# Create empty list to fill with tumor vol data (for plotting)\n",
    "tumor_vol_list = []\n",
    "# Calculate the IQR and quantitatively determine if there are any potential outliers. \n",
    "for drug in treatment_list:\n",
    "    # Locate the rows which contain mice on each drug and get the tumor volumes\n",
    "    final_tumor_vol = merged_data.loc[merged_data[\"Drug Regimen\"] == drug, 'Tumor Volume (mm3)']\n",
    "    # add subset \n",
    "    tumor_vol_list.append(final_tumor_vol)\n",
    "    # Determine outliers using upper and lower bounds\n",
    "    quartiles = final_tumor_vol.quantile([.25,.5,.75])\n",
    "    lowerq = quartiles[0.25]\n",
    "    upperq = quartiles[0.75]\n",
    "    iqr = upperq-lowerq\n",
    "    lower_bound = lowerq - (1.5*iqr)\n",
    "    upper_bound = upperq + (1.5*iqr)\n",
    "    outliers = final_tumor_vol.loc[(final_tumor_vol < lower_bound) | (final_tumor_vol > upper_bound)]\n",
    "    print(f\"{drug}'s potential outliers: {outliers}\")\n",
    "    "
   ]
  },
  {
   "cell_type": "code",
   "execution_count": 23,
   "metadata": {},
   "outputs": [
    {
     "data": {
      "image/png": "[encoded data removed]",
      "text/plain": [
       "<Figure size 432x288 with 1 Axes>"
      ]
     },
     "metadata": {
      "needs_background": "light"
     },
     "output_type": "display_data"
    }
   ],
   "source": [
    "# Generate a box plot of the final tumor volume of each mouse across four regimens of interest\n",
    "\n",
    "orange_out = dict(markerfacecolor = \"red\", markersize = 12)\n",
    "plt.boxplot(tumor_vol_list, labels=treatment_list, flierprops=orange_out)\n",
    "plt.ylabel(\"Final Tumor Volume (mm3)\")\n",
    "plt.show()"
   ]
  },
  {
   "cell_type": "markdown",
   "metadata": {},
   "source": [
    "## Line and Scatter Plots"
   ]
  },
  {
   "cell_type": "code",
   "execution_count": 30,
   "metadata": {},
   "outputs": [
    {
     "data": {
      "image/png": "[encoded data removed]",
      "text/plain": [
       "<Figure size 432x288 with 1 Axes>"
      ]
     },
     "metadata": {
      "needs_background": "light"
     },
     "output_type": "display_data"
    }
   ],
   "source": [
    "\n",
    "# Generate a line plot of tumor volume vs. time point for a mouse treated with Capomulin\n",
    "capomulin_table = clean_study_data_df.loc[clean_study_data_df['Drug Regimen'] == \"Capomulin\"]\n",
    "mousedata = capomulin_table.loc[capomulin_table['Mouse ID']== 'l509']\n",
    "plt.plot(mousedata['Timepoint'],mousedata['Tumor Volume (mm3)'])\n",
    "plt.xlabel('Timepoint (days)')\n",
    "plt.ylabel('Tumor Volume (mm3)')\n",
    "plt.title('Capomulin treatment of mouse l509')\n",
    "plt.show()"
   ]
  },
  {
   "cell_type": "code",
   "execution_count": 31,
   "metadata": {},
   "outputs": [
    {
     "data": {
      "image/png": "[encoded data removed]",
      "text/plain": [
       "<Figure size 432x288 with 1 Axes>"
      ]
     },
     "metadata": {
      "needs_background": "light"
     },
     "output_type": "display_data"
    }
   ],
   "source": [
    "# Generate a scatter plot of average tumor volume vs. mouse weight for the Capomulin regimen\n",
    "\n",
    "capomulin_table = clean_study_data_df.loc[clean_study_data_df['Drug Regimen'] == \"Capomulin\"]\n",
    "capomulin_average = capomulin_table.groupby([\"Mouse ID\"]).mean()\n",
    "plt.scatter(capomulin_average[\"Weight (g)\"], capomulin_average[\"Tumor Volume (mm3)\"])\n",
    "plt.xlabel('Weight (g)')\n",
    "plt.ylabel('Average Tumor Volume (mm3)')\n",
    "plt.show()\n"
   ]
  },
  {
   "cell_type": "markdown",
   "metadata": {},
   "source": [
    "## Correlation and Regression"
   ]
  },
  {
   "cell_type": "code",
   "execution_count": 37,
   "metadata": {},
   "outputs": [
    {
     "name": "stdout",
     "output_type": "stream",
     "text": [
      "The Correlation Between Mouse Weight and the Average Tumor Volume is 0.84\n"
     ]
    },
    {
     "data": {
      "image/png": "[encoded data removed]",
      "text/plain": [
       "<Figure size 432x288 with 1 Axes>"
      ]
     },
     "metadata": {
      "needs_background": "light"
     },
     "output_type": "display_data"
    }
   ],
   "source": [
    "# Calculate the correlation coefficient and linear regression model \n",
    "# for mouse weight and average tumor volume for the Capomulin regimen\n",
    "\n",
    "corr = round(st.pearsonr(capomulin_average[\"Weight (g)\"], capomulin_average[\"Tumor Volume (mm3)\"])[0],2)\n",
    "print(f\"The Correlation Between Mouse Weight and the Average Tumor Volume is {corr}\")\n",
    "model = st.linregress(capomulin_average[\"Weight (g)\"], capomulin_average[\"Tumor Volume (mm3)\"])\n",
    "y_values = capomulin_average[\"Weight (g)\"]*model[0]+model[1]\n",
    "plt.scatter(capomulin_average[\"Weight (g)\"], capomulin_average[\"Tumor Volume (mm3)\"])\n",
    "plt.plot(capomulin_average[\"Weight (g)\"], y_values, color=\"red\")\n",
    "plt.xlabel(\"Weight (g)\")\n",
    "plt.ylabel(\"Average Tumor Volume (mm3)\")\n",
    "plt.show()"
   ]
  },
  {
   "cell_type": "code",
   "execution_count": null,
   "metadata": {},
   "outputs": [],
   "source": []
  }
 ],
 "metadata": {
  "anaconda-cloud": {},
  "kernelspec": {
   "display_name": "Python 3",
   "language": "python",
   "name": "python3"
  },
  "language_info": {
   "codemirror_mode": {
    "name": "ipython",
    "version": 3
   },
   "file_extension": ".py",
   "mimetype": "text/x-python",
   "name": "python",
   "nbconvert_exporter": "python",
   "pygments_lexer": "ipython3",
   "version": "3.8.3"
  }
 },
 "nbformat": 4,
 "nbformat_minor": 4
}
